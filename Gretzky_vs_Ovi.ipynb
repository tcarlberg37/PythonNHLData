{
 "cells": [
  {
   "cell_type": "code",
   "execution_count": 1,
   "metadata": {},
   "outputs": [],
   "source": [
    "import numpy as np\n",
    "import pandas as pd\n",
    "import matplotlib.pyplot as plt"
   ]
  },
  {
   "cell_type": "code",
   "execution_count": 2,
   "metadata": {},
   "outputs": [],
   "source": [
    "gretzky = pd.read_csv('GretzkyStats.csv') # exported csv from nhl.com/stats"
   ]
  },
  {
   "cell_type": "code",
   "execution_count": 3,
   "metadata": {},
   "outputs": [],
   "source": [
    "ovechkin = pd.read_csv('OviStats.csv') # ACCURATE AS OF 1/17/2020"
   ]
  },
  {
   "cell_type": "code",
   "execution_count": 4,
   "metadata": {},
   "outputs": [
    {
     "data": {
      "text/html": [
       "<div>\n",
       "<style scoped>\n",
       "    .dataframe tbody tr th:only-of-type {\n",
       "        vertical-align: middle;\n",
       "    }\n",
       "\n",
       "    .dataframe tbody tr th {\n",
       "        vertical-align: top;\n",
       "    }\n",
       "\n",
       "    .dataframe thead th {\n",
       "        text-align: right;\n",
       "    }\n",
       "</style>\n",
       "<table border=\"1\" class=\"dataframe\">\n",
       "  <thead>\n",
       "    <tr style=\"text-align: right;\">\n",
       "      <th></th>\n",
       "      <th>Player</th>\n",
       "      <th>Season</th>\n",
       "      <th>Team</th>\n",
       "      <th>S/C</th>\n",
       "      <th>Pos</th>\n",
       "      <th>GP</th>\n",
       "      <th>G</th>\n",
       "      <th>A</th>\n",
       "      <th>P</th>\n",
       "      <th>+/-</th>\n",
       "      <th>...</th>\n",
       "      <th>EVP</th>\n",
       "      <th>PPG</th>\n",
       "      <th>PPP</th>\n",
       "      <th>SHG</th>\n",
       "      <th>SHP</th>\n",
       "      <th>GWG</th>\n",
       "      <th>S</th>\n",
       "      <th>S%</th>\n",
       "      <th>TOI/GP</th>\n",
       "      <th>FOW%</th>\n",
       "    </tr>\n",
       "  </thead>\n",
       "  <tbody>\n",
       "    <tr>\n",
       "      <td>0</td>\n",
       "      <td>Wayne Gretzky</td>\n",
       "      <td>19791980</td>\n",
       "      <td>EDM</td>\n",
       "      <td>L</td>\n",
       "      <td>C</td>\n",
       "      <td>79</td>\n",
       "      <td>51</td>\n",
       "      <td>86</td>\n",
       "      <td>137</td>\n",
       "      <td>14</td>\n",
       "      <td>...</td>\n",
       "      <td>100</td>\n",
       "      <td>13</td>\n",
       "      <td>35</td>\n",
       "      <td>1</td>\n",
       "      <td>2</td>\n",
       "      <td>6</td>\n",
       "      <td>284</td>\n",
       "      <td>18.0</td>\n",
       "      <td>--</td>\n",
       "      <td>--</td>\n",
       "    </tr>\n",
       "    <tr>\n",
       "      <td>1</td>\n",
       "      <td>Wayne Gretzky</td>\n",
       "      <td>19801981</td>\n",
       "      <td>EDM</td>\n",
       "      <td>L</td>\n",
       "      <td>C</td>\n",
       "      <td>80</td>\n",
       "      <td>55</td>\n",
       "      <td>109</td>\n",
       "      <td>164</td>\n",
       "      <td>41</td>\n",
       "      <td>...</td>\n",
       "      <td>104</td>\n",
       "      <td>15</td>\n",
       "      <td>53</td>\n",
       "      <td>4</td>\n",
       "      <td>7</td>\n",
       "      <td>3</td>\n",
       "      <td>261</td>\n",
       "      <td>21.1</td>\n",
       "      <td>--</td>\n",
       "      <td>--</td>\n",
       "    </tr>\n",
       "    <tr>\n",
       "      <td>2</td>\n",
       "      <td>Wayne Gretzky</td>\n",
       "      <td>19811982</td>\n",
       "      <td>EDM</td>\n",
       "      <td>L</td>\n",
       "      <td>C</td>\n",
       "      <td>80</td>\n",
       "      <td>92</td>\n",
       "      <td>120</td>\n",
       "      <td>212</td>\n",
       "      <td>80</td>\n",
       "      <td>...</td>\n",
       "      <td>147</td>\n",
       "      <td>18</td>\n",
       "      <td>57</td>\n",
       "      <td>6</td>\n",
       "      <td>8</td>\n",
       "      <td>12</td>\n",
       "      <td>370</td>\n",
       "      <td>24.9</td>\n",
       "      <td>--</td>\n",
       "      <td>--</td>\n",
       "    </tr>\n",
       "    <tr>\n",
       "      <td>3</td>\n",
       "      <td>Wayne Gretzky</td>\n",
       "      <td>19821983</td>\n",
       "      <td>EDM</td>\n",
       "      <td>L</td>\n",
       "      <td>C</td>\n",
       "      <td>80</td>\n",
       "      <td>71</td>\n",
       "      <td>125</td>\n",
       "      <td>196</td>\n",
       "      <td>61</td>\n",
       "      <td>...</td>\n",
       "      <td>132</td>\n",
       "      <td>18</td>\n",
       "      <td>54</td>\n",
       "      <td>6</td>\n",
       "      <td>10</td>\n",
       "      <td>9</td>\n",
       "      <td>348</td>\n",
       "      <td>20.4</td>\n",
       "      <td>--</td>\n",
       "      <td>--</td>\n",
       "    </tr>\n",
       "    <tr>\n",
       "      <td>4</td>\n",
       "      <td>Wayne Gretzky</td>\n",
       "      <td>19831984</td>\n",
       "      <td>EDM</td>\n",
       "      <td>L</td>\n",
       "      <td>C</td>\n",
       "      <td>74</td>\n",
       "      <td>87</td>\n",
       "      <td>118</td>\n",
       "      <td>205</td>\n",
       "      <td>78</td>\n",
       "      <td>...</td>\n",
       "      <td>135</td>\n",
       "      <td>20</td>\n",
       "      <td>47</td>\n",
       "      <td>12</td>\n",
       "      <td>23</td>\n",
       "      <td>11</td>\n",
       "      <td>326</td>\n",
       "      <td>26.7</td>\n",
       "      <td>--</td>\n",
       "      <td>--</td>\n",
       "    </tr>\n",
       "  </tbody>\n",
       "</table>\n",
       "<p>5 rows × 23 columns</p>\n",
       "</div>"
      ],
      "text/plain": [
       "          Player    Season Team S/C Pos  GP   G    A    P  +/-  ...  EVP  PPG  \\\n",
       "0  Wayne Gretzky  19791980  EDM   L   C  79  51   86  137   14  ...  100   13   \n",
       "1  Wayne Gretzky  19801981  EDM   L   C  80  55  109  164   41  ...  104   15   \n",
       "2  Wayne Gretzky  19811982  EDM   L   C  80  92  120  212   80  ...  147   18   \n",
       "3  Wayne Gretzky  19821983  EDM   L   C  80  71  125  196   61  ...  132   18   \n",
       "4  Wayne Gretzky  19831984  EDM   L   C  74  87  118  205   78  ...  135   20   \n",
       "\n",
       "   PPP  SHG  SHP  GWG    S    S%  TOI/GP  FOW%  \n",
       "0   35    1    2    6  284  18.0      --    --  \n",
       "1   53    4    7    3  261  21.1      --    --  \n",
       "2   57    6    8   12  370  24.9      --    --  \n",
       "3   54    6   10    9  348  20.4      --    --  \n",
       "4   47   12   23   11  326  26.7      --    --  \n",
       "\n",
       "[5 rows x 23 columns]"
      ]
     },
     "execution_count": 4,
     "metadata": {},
     "output_type": "execute_result"
    }
   ],
   "source": [
    "gretzky.head()"
   ]
  },
  {
   "cell_type": "code",
   "execution_count": 5,
   "metadata": {},
   "outputs": [
    {
     "data": {
      "text/html": [
       "<div>\n",
       "<style scoped>\n",
       "    .dataframe tbody tr th:only-of-type {\n",
       "        vertical-align: middle;\n",
       "    }\n",
       "\n",
       "    .dataframe tbody tr th {\n",
       "        vertical-align: top;\n",
       "    }\n",
       "\n",
       "    .dataframe thead th {\n",
       "        text-align: right;\n",
       "    }\n",
       "</style>\n",
       "<table border=\"1\" class=\"dataframe\">\n",
       "  <thead>\n",
       "    <tr style=\"text-align: right;\">\n",
       "      <th></th>\n",
       "      <th>Player</th>\n",
       "      <th>Season</th>\n",
       "      <th>Team</th>\n",
       "      <th>S/C</th>\n",
       "      <th>Pos</th>\n",
       "      <th>GP</th>\n",
       "      <th>G</th>\n",
       "      <th>A</th>\n",
       "      <th>P</th>\n",
       "      <th>+/-</th>\n",
       "      <th>...</th>\n",
       "      <th>EVP</th>\n",
       "      <th>PPG</th>\n",
       "      <th>PPP</th>\n",
       "      <th>SHG</th>\n",
       "      <th>SHP</th>\n",
       "      <th>GWG</th>\n",
       "      <th>S</th>\n",
       "      <th>S%</th>\n",
       "      <th>TOI/GP</th>\n",
       "      <th>FOW%</th>\n",
       "    </tr>\n",
       "  </thead>\n",
       "  <tbody>\n",
       "    <tr>\n",
       "      <td>0</td>\n",
       "      <td>Alex Ovechkin</td>\n",
       "      <td>20052006</td>\n",
       "      <td>WSH</td>\n",
       "      <td>R</td>\n",
       "      <td>L</td>\n",
       "      <td>81</td>\n",
       "      <td>52</td>\n",
       "      <td>54</td>\n",
       "      <td>106</td>\n",
       "      <td>2</td>\n",
       "      <td>...</td>\n",
       "      <td>51</td>\n",
       "      <td>21</td>\n",
       "      <td>52</td>\n",
       "      <td>3</td>\n",
       "      <td>3</td>\n",
       "      <td>5</td>\n",
       "      <td>425</td>\n",
       "      <td>12.2</td>\n",
       "      <td>21:37</td>\n",
       "      <td>12.5</td>\n",
       "    </tr>\n",
       "    <tr>\n",
       "      <td>1</td>\n",
       "      <td>Alex Ovechkin</td>\n",
       "      <td>20062007</td>\n",
       "      <td>WSH</td>\n",
       "      <td>R</td>\n",
       "      <td>L</td>\n",
       "      <td>82</td>\n",
       "      <td>46</td>\n",
       "      <td>46</td>\n",
       "      <td>92</td>\n",
       "      <td>-19</td>\n",
       "      <td>...</td>\n",
       "      <td>55</td>\n",
       "      <td>16</td>\n",
       "      <td>37</td>\n",
       "      <td>0</td>\n",
       "      <td>0</td>\n",
       "      <td>8</td>\n",
       "      <td>392</td>\n",
       "      <td>11.7</td>\n",
       "      <td>21:23</td>\n",
       "      <td>47.1</td>\n",
       "    </tr>\n",
       "    <tr>\n",
       "      <td>2</td>\n",
       "      <td>Alex Ovechkin</td>\n",
       "      <td>20072008</td>\n",
       "      <td>WSH</td>\n",
       "      <td>R</td>\n",
       "      <td>L</td>\n",
       "      <td>82</td>\n",
       "      <td>65</td>\n",
       "      <td>47</td>\n",
       "      <td>112</td>\n",
       "      <td>28</td>\n",
       "      <td>...</td>\n",
       "      <td>75</td>\n",
       "      <td>22</td>\n",
       "      <td>37</td>\n",
       "      <td>0</td>\n",
       "      <td>0</td>\n",
       "      <td>11</td>\n",
       "      <td>446</td>\n",
       "      <td>14.6</td>\n",
       "      <td>22:55</td>\n",
       "      <td>38.9</td>\n",
       "    </tr>\n",
       "    <tr>\n",
       "      <td>3</td>\n",
       "      <td>Alex Ovechkin</td>\n",
       "      <td>20082009</td>\n",
       "      <td>WSH</td>\n",
       "      <td>R</td>\n",
       "      <td>L</td>\n",
       "      <td>79</td>\n",
       "      <td>56</td>\n",
       "      <td>54</td>\n",
       "      <td>110</td>\n",
       "      <td>8</td>\n",
       "      <td>...</td>\n",
       "      <td>63</td>\n",
       "      <td>19</td>\n",
       "      <td>46</td>\n",
       "      <td>1</td>\n",
       "      <td>1</td>\n",
       "      <td>10</td>\n",
       "      <td>528</td>\n",
       "      <td>10.6</td>\n",
       "      <td>23:00</td>\n",
       "      <td>25.0</td>\n",
       "    </tr>\n",
       "    <tr>\n",
       "      <td>4</td>\n",
       "      <td>Alex Ovechkin</td>\n",
       "      <td>20092010</td>\n",
       "      <td>WSH</td>\n",
       "      <td>R</td>\n",
       "      <td>L</td>\n",
       "      <td>72</td>\n",
       "      <td>50</td>\n",
       "      <td>59</td>\n",
       "      <td>109</td>\n",
       "      <td>45</td>\n",
       "      <td>...</td>\n",
       "      <td>73</td>\n",
       "      <td>13</td>\n",
       "      <td>36</td>\n",
       "      <td>0</td>\n",
       "      <td>0</td>\n",
       "      <td>7</td>\n",
       "      <td>368</td>\n",
       "      <td>13.6</td>\n",
       "      <td>21:48</td>\n",
       "      <td>45.5</td>\n",
       "    </tr>\n",
       "  </tbody>\n",
       "</table>\n",
       "<p>5 rows × 23 columns</p>\n",
       "</div>"
      ],
      "text/plain": [
       "          Player    Season Team S/C Pos  GP   G   A    P  +/-  ...  EVP  PPG  \\\n",
       "0  Alex Ovechkin  20052006  WSH   R   L  81  52  54  106    2  ...   51   21   \n",
       "1  Alex Ovechkin  20062007  WSH   R   L  82  46  46   92  -19  ...   55   16   \n",
       "2  Alex Ovechkin  20072008  WSH   R   L  82  65  47  112   28  ...   75   22   \n",
       "3  Alex Ovechkin  20082009  WSH   R   L  79  56  54  110    8  ...   63   19   \n",
       "4  Alex Ovechkin  20092010  WSH   R   L  72  50  59  109   45  ...   73   13   \n",
       "\n",
       "   PPP  SHG  SHP  GWG    S    S%  TOI/GP  FOW%  \n",
       "0   52    3    3    5  425  12.2   21:37  12.5  \n",
       "1   37    0    0    8  392  11.7   21:23  47.1  \n",
       "2   37    0    0   11  446  14.6   22:55  38.9  \n",
       "3   46    1    1   10  528  10.6   23:00  25.0  \n",
       "4   36    0    0    7  368  13.6   21:48  45.5  \n",
       "\n",
       "[5 rows x 23 columns]"
      ]
     },
     "execution_count": 5,
     "metadata": {},
     "output_type": "execute_result"
    }
   ],
   "source": [
    "ovechkin.head()"
   ]
  },
  {
   "cell_type": "code",
   "execution_count": 6,
   "metadata": {},
   "outputs": [],
   "source": [
    "gretzky['Career Goals'] = gretzky['G'].cumsum()"
   ]
  },
  {
   "cell_type": "code",
   "execution_count": 7,
   "metadata": {},
   "outputs": [],
   "source": [
    "ovechkin['Career Goals'] = ovechkin['G'].cumsum()"
   ]
  },
  {
   "cell_type": "code",
   "execution_count": 8,
   "metadata": {},
   "outputs": [],
   "source": [
    "gretzky['Career GP'] = gretzky['GP'].cumsum()"
   ]
  },
  {
   "cell_type": "code",
   "execution_count": 9,
   "metadata": {},
   "outputs": [],
   "source": [
    "ovechkin['Career GP'] = ovechkin['GP'].cumsum()"
   ]
  },
  {
   "cell_type": "code",
   "execution_count": 10,
   "metadata": {
    "scrolled": true
   },
   "outputs": [
    {
     "data": {
      "text/plain": [
       "Text(0.5, 1.0, 'Ovechkin vs Gretzky Career Goals')"
      ]
     },
     "execution_count": 10,
     "metadata": {},
     "output_type": "execute_result"
    },
    {
     "data": {
      "image/png": "[encoded data removed]",
      "text/plain": [
       "<Figure size 432x288 with 1 Axes>"
      ]
     },
     "metadata": {
      "needs_background": "light"
     },
     "output_type": "display_data"
    }
   ],
   "source": [
    "plt.plot(gretzky['Career GP'], gretzky['Career Goals'], ovechkin['Career GP'], ovechkin['Career Goals'])\n",
    "plt.xlabel('Career Games Played')\n",
    "plt.ylabel('Career Goals')\n",
    "plt.title('Ovechkin vs Gretzky Career Goals')"
   ]
  },
  {
   "cell_type": "code",
   "execution_count": 11,
   "metadata": {},
   "outputs": [],
   "source": [
    "gretzky['G/GP'] = gretzky['G'] / gretzky['GP']\n",
    "ovechkin['G/GP'] = ovechkin['G'] / ovechkin['GP']"
   ]
  },
  {
   "cell_type": "code",
   "execution_count": 12,
   "metadata": {
    "scrolled": false
   },
   "outputs": [
    {
     "data": {
      "text/plain": [
       "0     0.645570\n",
       "1     0.687500\n",
       "2     1.150000\n",
       "3     0.887500\n",
       "4     1.175676\n",
       "5     0.912500\n",
       "6     0.650000\n",
       "7     0.784810\n",
       "8     0.625000\n",
       "9     0.692308\n",
       "10    0.547945\n",
       "11    0.525641\n",
       "12    0.418919\n",
       "13    0.355556\n",
       "14    0.469136\n",
       "15    0.229167\n",
       "16    0.287500\n",
       "17    0.304878\n",
       "18    0.280488\n",
       "19    0.128571\n",
       "Name: G/GP, dtype: float64"
      ]
     },
     "execution_count": 12,
     "metadata": {},
     "output_type": "execute_result"
    }
   ],
   "source": [
    "gretzky['G/GP']"
   ]
  },
  {
   "cell_type": "code",
   "execution_count": 13,
   "metadata": {},
   "outputs": [
    {
     "data": {
      "text/plain": [
       "0     0.641975\n",
       "1     0.560976\n",
       "2     0.792683\n",
       "3     0.708861\n",
       "4     0.694444\n",
       "5     0.405063\n",
       "6     0.487179\n",
       "7     0.666667\n",
       "8     0.653846\n",
       "9     0.654321\n",
       "10    0.632911\n",
       "11    0.402439\n",
       "12    0.597561\n",
       "13    0.629630\n",
       "14    0.645833\n",
       "Name: G/GP, dtype: float64"
      ]
     },
     "execution_count": 13,
     "metadata": {},
     "output_type": "execute_result"
    }
   ],
   "source": [
    "ovechkin['G/GP']"
   ]
  },
  {
   "cell_type": "code",
   "execution_count": 14,
   "metadata": {},
   "outputs": [
    {
     "data": {
      "text/plain": [
       "0.10799337547370098"
      ]
     },
     "execution_count": 14,
     "metadata": {},
     "output_type": "execute_result"
    }
   ],
   "source": [
    "ovechkin['G/GP'].std()"
   ]
  },
  {
   "cell_type": "code",
   "execution_count": 15,
   "metadata": {},
   "outputs": [
    {
     "data": {
      "text/plain": [
       "0.29301944541692243"
      ]
     },
     "execution_count": 15,
     "metadata": {},
     "output_type": "execute_result"
    }
   ],
   "source": [
    "gretzky['G/GP'].std() # much bigger variation in Gretzky's G/GP over the years, almost triple Ovi's"
   ]
  },
  {
   "cell_type": "code",
   "execution_count": 16,
   "metadata": {},
   "outputs": [
    {
     "data": {
      "text/plain": [
       "0.5879331785889765"
      ]
     },
     "execution_count": 16,
     "metadata": {},
     "output_type": "execute_result"
    }
   ],
   "source": [
    "gretz_career_g_gp = gretzky['G/GP'].mean()\n",
    "gretz_career_g_gp "
   ]
  },
  {
   "cell_type": "code",
   "execution_count": 17,
   "metadata": {},
   "outputs": [
    {
     "data": {
      "text/plain": [
       "0.6116259994012903"
      ]
     },
     "execution_count": 17,
     "metadata": {},
     "output_type": "execute_result"
    }
   ],
   "source": [
    "ovi_career_g_gp = ovechkin['G/GP'].mean()\n",
    "ovi_career_g_gp # Ovechkin's career G/GP is higher than Gretzky's and more stable"
   ]
  },
  {
   "cell_type": "code",
   "execution_count": 18,
   "metadata": {},
   "outputs": [],
   "source": [
    "ovechkin_future = []\n",
    "for i in range(1498): # since Gretzky has 1497 career GP\n",
    "    ovechkin_future.append(i * ovi_career_g_gp)\n",
    "# far from a real learning model but Ovi's goal scoring is much closer to a linear relationship with GP than Gretzky's"
   ]
  },
  {
   "cell_type": "code",
   "execution_count": 19,
   "metadata": {},
   "outputs": [
    {
     "data": {
      "text/plain": [
       "915.6041211037315"
      ]
     },
     "execution_count": 19,
     "metadata": {},
     "output_type": "execute_result"
    }
   ],
   "source": [
    "max(ovechkin_future)"
   ]
  },
  {
   "cell_type": "code",
   "execution_count": 20,
   "metadata": {},
   "outputs": [
    {
     "data": {
      "text/plain": [
       "Text(0.5, 1.0, 'Ovechkin vs Gretzky Career Goals')"
      ]
     },
     "execution_count": 20,
     "metadata": {},
     "output_type": "execute_result"
    },
    {
     "data": {
      "image/png": "[encoded data removed]",
      "text/plain": [
       "<Figure size 432x288 with 1 Axes>"
      ]
     },
     "metadata": {
      "needs_background": "light"
     },
     "output_type": "display_data"
    }
   ],
   "source": [
    "line1 = plt.plot(gretzky['Career GP'], gretzky['Career Goals'])\n",
    "line2 = plt.plot(ovechkin['Career GP'], ovechkin['Career Goals'], color='red')\n",
    "line3 = plt.plot(ovechkin_future, color='green', alpha=0.4)\n",
    "plt.xlabel('Career Games Played')\n",
    "plt.ylabel('Career Goals')\n",
    "plt.title('Ovechkin vs Gretzky Career Goals')\n",
    "# legend = plt.legend([line1, line2, line3], ['Gretzky Career Goals', 'Ovechkin Career Goals', 'Ovechkin Predicted Goals'])"
   ]
  },
  {
   "cell_type": "code",
   "execution_count": 21,
   "metadata": {},
   "outputs": [],
   "source": [
    "# If Ovechkin keeps scoring at his same career rate (which is higher and more stable than Gretzky's career G/GP) \n",
    "# he will surpass Gretzky's Goal Record (894) in almost the same number of games\n",
    "# it will be close but Ovechkin may prove himself to be the greatest goalscorer in NHL history"
   ]
  },
  {
   "cell_type": "code",
   "execution_count": null,
   "metadata": {},
   "outputs": [],
   "source": []
  }
 ],
 "metadata": {
  "kernelspec": {
   "display_name": "Python 3",
   "language": "python",
   "name": "python3"
  },
  "language_info": {
   "codemirror_mode": {
    "name": "ipython",
    "version": 3
   },
   "file_extension": ".py",
   "mimetype": "text/x-python",
   "name": "python",
   "nbconvert_exporter": "python",
   "pygments_lexer": "ipython3",
   "version": "3.7.4"
  }
 },
 "nbformat": 4,
 "nbformat_minor": 2
}
